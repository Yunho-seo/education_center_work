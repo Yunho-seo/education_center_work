{
  "nbformat": 4,
  "nbformat_minor": 0,
  "metadata": {
    "colab": {
      "provenance": []
    },
    "kernelspec": {
      "name": "python3",
      "display_name": "Python 3"
    },
    "language_info": {
      "name": "python"
    }
  },
  "cells": [
    {
      "cell_type": "code",
      "source": [
        "!pip install pymysql"
      ],
      "metadata": {
        "id": "fnhG2EUdT-Vc"
      },
      "execution_count": null,
      "outputs": []
    },
    {
      "cell_type": "code",
      "source": [
        "# 프론트엔드부 (수신)\n",
        "import json\n",
        "import pymysql\n",
        "\n",
        "con = pymysql.connect(host='34.64.86.80', port = 3306, user = 'root', passwd = 'acorn1234',\n",
        "                     use_unicode = True, db = 'mqtt', charset = 'utf8', autocommit=True)\n",
        "cursor = con.cursor()\n",
        "\n",
        "def on_connect(client, userdata, flags, rc):\n",
        "  print(\"연결되었습니다 \" + str(rc))\n",
        "  client.subscribe('house/light')\n",
        "\n",
        "def on_message(client, userdata, msg):\n",
        "  json_return = json.loads(msg.payload.decode('utf-8'))  # 한글 표현\n",
        "  print(json_return[\"light\"])\n",
        "  print(json_return[\"hangeul\"])\n",
        "  print(msg.topic + \" \" + str(json_return))\n",
        "  try:\n",
        "    with con.cursor() as cursor:\n",
        "      sql = \"insert into mqtt (light, door, close, hangeul) values (%s, %s, %s, %s)\"\n",
        "      cursor.execute(sql, (json_return['light'], json_return['door'], json_return['close'], json_return['hangeul']))\n",
        "    con.commit()\n",
        "    print('저장 완료')\n",
        "  except Exception as e:\n",
        "    print('실행 오류:', e)\n",
        "  if json_return['close'] == 'true':\n",
        "    client.disconnect()\n",
        "\n",
        "def on_disconnect(client, userdata, rc):\n",
        "  print(\"해제 이유: \" + str(rc))\n",
        "  con.close()\n",
        "  client.connected_flag = False\n",
        "  client.disconnect_flag = True\n",
        "\n",
        "def on_subscribed(client, userdata, topic):\n",
        "  print('다음 토픽에 등록됨 : $topic')\n",
        "\n",
        "def on_subscribe(client, userdata, mid, granted_qos):\n",
        "  print(\"subscribed: \" + str(mid) + \" \" + str(granted_qos))\n",
        "\n",
        "def on_close(client, userdata, rc):\n",
        "  print(\"종료\")\n",
        "  con.close()"
      ],
      "metadata": {
        "id": "nnycBcdCM5dM"
      },
      "execution_count": null,
      "outputs": []
    },
    {
      "cell_type": "code",
      "source": [
        "client = mqtt.Client()\n",
        "client.username_pw_set(username = 'mirae', password='daejeon1234')\n",
        "client.on_connect = on_connect\n",
        "client.on_message = on_message\n",
        "client.on_disconnect = on_disconnect\n",
        "client.on_subscribe = on_subscribe\n",
        "client.on_subscribed = on_subscribed\n",
        "client.on_close = on_close\n",
        "client.connect('34.64.86.80', 19883)\n",
        "client.subscribe('house/light', qos=1)\n",
        "client.loop_forever()"
      ],
      "metadata": {
        "colab": {
          "base_uri": "https://localhost:8080/"
        },
        "id": "9N-3tEyeM5fD",
        "outputId": "5780d4aa-c5ba-40ff-81ee-0b420e4ef1db"
      },
      "execution_count": null,
      "outputs": [
        {
          "output_type": "stream",
          "name": "stdout",
          "text": [
            "연결되었습니다 0\n",
            "subscribed: 1 (1,)\n",
            "subscribed: 2 (0,)\n",
            "on\n",
            "대전\n",
            "house/light {'light': 'on', 'door': 'close', 'close': 'false', 'hangeul': '대전'}\n",
            "저장 완료\n",
            "on\n",
            "대전\n",
            "house/light {'light': 'on', 'door': 'close', 'close': 'true', 'hangeul': '대전'}\n",
            "저장 완료\n",
            "해제 이유: 0\n"
          ]
        },
        {
          "output_type": "execute_result",
          "data": {
            "text/plain": [
              "7"
            ]
          },
          "metadata": {},
          "execution_count": 24
        }
      ]
    },
    {
      "cell_type": "code",
      "source": [
        "# 백엔드부 (송신)\n",
        "import json\n",
        "message = {}\n",
        "message[\"light\"] = \"on\"\n",
        "message[\"door\"] = \"close\"\n",
        "message[\"close\"] = \"false\"\n",
        "# message[\"close\"] = \"true\"\n",
        "\n",
        "message[\"hangeul\"] = \"대전\"\n",
        "transferdata = json.dumps(message)\n",
        "client.publish(\"house/light\", transferdata)"
      ],
      "metadata": {
        "id": "9gLGLluYUZhD"
      },
      "execution_count": null,
      "outputs": []
    },
    {
      "cell_type": "code",
      "source": [],
      "metadata": {
        "id": "727orTKFU628"
      },
      "execution_count": null,
      "outputs": []
    },
    {
      "cell_type": "code",
      "source": [
        "# 직접 실습해본것"
      ],
      "metadata": {
        "id": "Crarq-ktUVuD"
      },
      "execution_count": null,
      "outputs": []
    },
    {
      "cell_type": "code",
      "source": [
        "import pymysql\n",
        "import json\n",
        "import paho.mqtt.client as mqtt\n",
        "con = pymysql.connect(host='34.64.86.80', port=3306, user='root', passwd='acorn1234', \n",
        "                      db='mtqq', charset='utf8', autocommit=True)\n",
        "message_count = 0\n",
        "def on_connect(client, userdata, flags, rc):\n",
        "    print('연결되었습니다' + str(rc))\n",
        "\n",
        "def on_message(client, userdata, msg):\n",
        "    global message_count  \n",
        "    json_message = msg.payload.decode('utf-8')\n",
        "    data = json.loads(json_message)\n",
        "\n",
        "    light = data['light']\n",
        "    door = data['door']\n",
        "    \n",
        "    cursor = con.cursor()\n",
        "    query = \"insert into mtqq (light, door) values (%s, %s)\"\n",
        "    values = (light, door)\n",
        "    cursor.execute(query, values)\n",
        "    con.commit()\n",
        "    print('성공')\n",
        "    cursor.close()\n",
        "\n",
        "    message_count += 1\n",
        "    if message_count >= 3:\n",
        "      client.disconnect()  # Disconnect the MQTT client\n",
        "\n",
        "client = mqtt.Client()\n",
        "client.on_connect = on_connect\n",
        "client.on_message = on_message\n",
        "\n",
        "client.connect('34.64.86.80', 19883)\n",
        "client.subscribe('house/light', qos=1)\n",
        "client.loop_forever() \n",
        " \n",
        "con.close() "
      ],
      "metadata": {
        "id": "PuO5FtxCU5Xk"
      },
      "execution_count": null,
      "outputs": []
    },
    {
      "cell_type": "code",
      "source": [
        "#\n",
        "import json\n",
        "import paho.mqtt.client as mqtt\n",
        "client = mqtt.Client()\n",
        "client.connect('34.64.86.80', 19883) \n",
        "message = {}\n",
        "message['light'] = 'off'\n",
        "message['door'] = 'open'\n",
        "transferdata = json.dumps(message)\n",
        "client.publish('house/light', transferdata)"
      ],
      "metadata": {
        "id": "LcJRoriKVd58"
      },
      "execution_count": null,
      "outputs": []
    }
  ]
}