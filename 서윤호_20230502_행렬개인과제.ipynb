{
  "nbformat": 4,
  "nbformat_minor": 0,
  "metadata": {
    "colab": {
      "provenance": []
    },
    "kernelspec": {
      "name": "python3",
      "display_name": "Python 3"
    },
    "language_info": {
      "name": "python"
    }
  },
  "cells": [
    {
      "cell_type": "code",
      "execution_count": 35,
      "metadata": {
        "colab": {
          "base_uri": "https://localhost:8080/"
        },
        "id": "C87w1Tq6iY01",
        "outputId": "db4726b7-ac95-4292-eb35-56d10076a167"
      },
      "outputs": [
        {
          "output_type": "stream",
          "name": "stdout",
          "text": [
            "[[ 0  1  2  3  4  5]\n",
            " [10 11 12 13 14 15]\n",
            " [20 21 22 23 24 25]\n",
            " [30 31 32 33 34 35]\n",
            " [40 41 42 43 44 45]\n",
            " [50 51 52 53 54 55]] \n",
            "\n",
            "주황색 : [2 3 4] \n",
            "\n",
            "빨강색 : [ 2 12 22 32 42 52] \n",
            "\n",
            "초록색 : [[20 22 24]\n",
            " [40 42 44]] \n",
            "\n",
            "초록색 마스킹 : [[20 22 24]\n",
            " [40 42 44]] \n",
            "\n",
            "하늘색 : [[44 45]\n",
            " [54 55]]\n"
          ]
        }
      ],
      "source": [
        "import numpy as np\n",
        "\n",
        "a = np.arange(0, 6)\n",
        "arr = np.array([a, a+10, a+20, a+30, a+40, a+50])\n",
        "print(arr, '\\n')\n",
        "\n",
        "# 주황색 [2, 3, 4]\n",
        "print(\"주황색 :\", arr[0, [2, 3, 4]], '\\n')\n",
        "\n",
        "# 빨강색 [2, 12, 22, 32, 42, 52]\n",
        "print(\"빨강색 :\", arr[[0, 1, 2, 3, 4, 5], 2], '\\n')\n",
        "\n",
        "# 초록색 [20, 22, 24], [40, 42, 44] (팬시)\n",
        "print(\"초록색 :\", arr[[2,4]][:,[0,2,4]], '\\n')\n",
        "# 마스킹 (masking)\n",
        "mask = np.array([0,0,1,0,1,0],dtype=bool)\n",
        "print(\"초록색 마스킹 :\", arr[mask][:,[0,2,4]], '\\n')\n",
        "\n",
        "# 하늘색 [44, 45], [54, 55]\n",
        "print(\"하늘색 :\", arr[4:, 4:])\n"
      ]
    }
  ]
}