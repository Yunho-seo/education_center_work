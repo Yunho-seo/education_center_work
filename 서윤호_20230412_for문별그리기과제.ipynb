{
  "nbformat": 4,
  "nbformat_minor": 0,
  "metadata": {
    "colab": {
      "provenance": [],
      "authorship_tag": "ABX9TyOFxbXFwOfDDVhRBxnzpQpC",
      "include_colab_link": true
    },
    "kernelspec": {
      "name": "python3",
      "display_name": "Python 3"
    },
    "language_info": {
      "name": "python"
    }
  },
  "cells": [
    {
      "cell_type": "markdown",
      "metadata": {
        "id": "view-in-github",
        "colab_type": "text"
      },
      "source": [
        "<a href=\"https://colab.research.google.com/github/Yunho-seo/education_center_work/blob/main/%EC%84%9C%EC%9C%A4%ED%98%B8_20230412_for%EB%AC%B8%EB%B3%84%EA%B7%B8%EB%A6%AC%EA%B8%B0%EA%B3%BC%EC%A0%9C.ipynb\" target=\"_parent\"><img src=\"https://colab.research.google.com/assets/colab-badge.svg\" alt=\"Open In Colab\"/></a>"
      ]
    },
    {
      "cell_type": "code",
      "execution_count": null,
      "metadata": {
        "colab": {
          "base_uri": "https://localhost:8080/"
        },
        "id": "_0MGPxVDhqmT",
        "outputId": "1016b7d9-de5e-4f61-8eb1-632dd94f0270"
      },
      "outputs": [
        {
          "output_type": "stream",
          "name": "stdout",
          "text": [
            "         *\n",
            "        ***\n",
            "       *****\n",
            "      *******\n",
            "     *********\n",
            "    ***********\n",
            "   *************\n",
            "  ***************\n",
            " *****************\n",
            "*******************\n"
          ]
        }
      ],
      "source": [
        "for n in range(1, 11):\n",
        "    print(' '*(10-n) + '*'*(2*n-1))"
      ]
    },
    {
      "cell_type": "code",
      "source": [
        "for i in range(1, 21):\n",
        "  if i <= 10:\n",
        "    print(\"*\" * i)\n",
        "  else:\n",
        "    print(\"*\" * (20 - i))"
      ],
      "metadata": {
        "colab": {
          "base_uri": "https://localhost:8080/"
        },
        "id": "NAzPLNiQhxG0",
        "outputId": "1fbd60c6-29c4-4857-e514-72e769bf833c"
      },
      "execution_count": null,
      "outputs": [
        {
          "output_type": "stream",
          "name": "stdout",
          "text": [
            "*\n",
            "**\n",
            "***\n",
            "****\n",
            "*****\n",
            "******\n",
            "*******\n",
            "********\n",
            "*********\n",
            "**********\n",
            "*********\n",
            "********\n",
            "*******\n",
            "******\n",
            "*****\n",
            "****\n",
            "***\n",
            "**\n",
            "*\n",
            "\n"
          ]
        }
      ]
    },
    {
      "cell_type": "code",
      "source": [
        "for i in range(1, 11):\n",
        "  print(\"*\" * i + \" \" * (10-i) + \" \" * (10-i) + \"*\" * i)"
      ],
      "metadata": {
        "colab": {
          "base_uri": "https://localhost:8080/"
        },
        "id": "EkMADr9-hxI0",
        "outputId": "5e847730-e0a9-45d7-a6d3-589d60e0755a"
      },
      "execution_count": null,
      "outputs": [
        {
          "output_type": "stream",
          "name": "stdout",
          "text": [
            "*                  *\n",
            "**                **\n",
            "***              ***\n",
            "****            ****\n",
            "*****          *****\n",
            "******        ******\n",
            "*******      *******\n",
            "********    ********\n",
            "*********  *********\n",
            "********************\n"
          ]
        }
      ]
    },
    {
      "cell_type": "code",
      "source": [
        "for i in range(1, 21):\n",
        "  if i <= 10:\n",
        "    print(\"*\" * i + \" \" * (10-i) + \" \" * (10-i) + \"*\" * i)\n",
        "  else:\n",
        "    print(\"*\" * (20-i) + \" \" * (i-10) + \" \" * (i-10) + \"*\" * (20-i))"
      ],
      "metadata": {
        "colab": {
          "base_uri": "https://localhost:8080/"
        },
        "id": "hyNxt7IzhxK0",
        "outputId": "199cf3dd-7b00-4851-dab4-5c8763a5814d"
      },
      "execution_count": null,
      "outputs": [
        {
          "output_type": "stream",
          "name": "stdout",
          "text": [
            "*                  *\n",
            "**                **\n",
            "***              ***\n",
            "****            ****\n",
            "*****          *****\n",
            "******        ******\n",
            "*******      *******\n",
            "********    ********\n",
            "*********  *********\n",
            "********************\n",
            "*********  *********\n",
            "********    ********\n",
            "*******      *******\n",
            "******        ******\n",
            "*****          *****\n",
            "****            ****\n",
            "***              ***\n",
            "**                **\n",
            "*                  *\n",
            "                    \n"
          ]
        }
      ]
    },
    {
      "cell_type": "code",
      "source": [
        "for i in range(1, 11):\n",
        "  print(\"*\" * (11-i) + \" \" * (i-1) + \" \" * (i-1) + \"*\" * (11-i))"
      ],
      "metadata": {
        "colab": {
          "base_uri": "https://localhost:8080/"
        },
        "id": "NB30xNYZhxNM",
        "outputId": "fe32b80d-47a9-4c1f-a993-fd5bfeef0fd8"
      },
      "execution_count": null,
      "outputs": [
        {
          "output_type": "stream",
          "name": "stdout",
          "text": [
            "********************\n",
            "*********  *********\n",
            "********    ********\n",
            "*******      *******\n",
            "******        ******\n",
            "*****          *****\n",
            "****            ****\n",
            "***              ***\n",
            "**                **\n",
            "*                  *\n"
          ]
        }
      ]
    }
  ]
}