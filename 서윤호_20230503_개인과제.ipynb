{
  "nbformat": 4,
  "nbformat_minor": 0,
  "metadata": {
    "colab": {
      "provenance": [],
      "authorship_tag": "ABX9TyNFgwqUTcoCy6coZr9Io7xf",
      "include_colab_link": true
    },
    "kernelspec": {
      "name": "python3",
      "display_name": "Python 3"
    },
    "language_info": {
      "name": "python"
    }
  },
  "cells": [
    {
      "cell_type": "markdown",
      "metadata": {
        "id": "view-in-github",
        "colab_type": "text"
      },
      "source": [
        "<a href=\"https://colab.research.google.com/github/Yunho-seo/education_center_work/blob/main/%EC%84%9C%EC%9C%A4%ED%98%B8_20230503_%EA%B0%9C%EC%9D%B8%EA%B3%BC%EC%A0%9C.ipynb\" target=\"_parent\"><img src=\"https://colab.research.google.com/assets/colab-badge.svg\" alt=\"Open In Colab\"/></a>"
      ]
    },
    {
      "cell_type": "code",
      "execution_count": null,
      "metadata": {
        "id": "jW_Z9IzCsonB"
      },
      "outputs": [],
      "source": [
        "# 문제\n",
        "# 두 벡터의 사이각 구하기 (몇 도인가?)\n",
        "a = np.array([0, 1, 0])\n",
        "b = np.array([1, 0, 0])\n",
        "\n",
        "dot = np.dot(a, b)  # 내적\n",
        "na = np.linalg.norm(a)  # 벡터 a의 크기\n",
        "nb = np.linalg.norm(b)  # 벡터 b의 크기\n",
        "\n",
        "cos_theta = dot / (na * nb)\n",
        "theta = np.arccos(cos_theta)\n",
        "\n",
        "print(\"사이각은: \", np.degrees(theta), \" 도\")  # 라디안 -> 각도로 바꾸기"
      ]
    },
    {
      "cell_type": "code",
      "source": [
        "# 문제\n",
        "# x = np.array([[1, 2], [3, 4]]) \n",
        "# 위 행렬에 대해 역행렬을 구하고 행렬곱을 하여 결과가 단위행렬임을 확인\n",
        "\n",
        "# 주어진 행렬 x\n",
        "x = np.array([[1, 2], [3, 4]])\n",
        "\n",
        "# 역행렬 계산\n",
        "inv_x = np.linalg.inv(x)\n",
        "print(\"역행렬\")\n",
        "print(inv_x, '\\n')\n",
        "\n",
        "# x와 역행렬의 곱\n",
        "identity = np.dot(x, inv_x)\n",
        "\n",
        "# 결과 출력 <행렬곱>\n",
        "print(\"행렬곱\")\n",
        "print(identity)"
      ],
      "metadata": {
        "id": "rCMfN8FZss-x"
      },
      "execution_count": null,
      "outputs": []
    },
    {
      "cell_type": "code",
      "source": [
        "# 삼각함수\n",
        "# tan theta = sin theta / cos theta 임을 확인\n",
        "# cos**2 theta + sin**2 theta = 1   임을 검증\n",
        "\n",
        "theta = np.pi/4\n",
        "tan_theta = np.tan(theta)\n",
        "sin_theta = np.sin(theta)\n",
        "cos_theta = np.cos(theta)\n",
        "\n",
        "print(tan_theta)\n",
        "print(sin_theta)\n",
        "print(cos_theta)\n",
        "tan = sin_theta / cos_theta\n",
        "print(tan)\n",
        "\n",
        "result = cos_theta**2 + sin_theta**2\n",
        "print(\"cos**2 theta + sin**2 theta = \", result)"
      ],
      "metadata": {
        "id": "4kMHEH6UstBR"
      },
      "execution_count": null,
      "outputs": []
    }
  ]
}