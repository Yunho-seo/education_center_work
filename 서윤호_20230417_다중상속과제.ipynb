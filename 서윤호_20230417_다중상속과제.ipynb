{
  "nbformat": 4,
  "nbformat_minor": 0,
  "metadata": {
    "colab": {
      "provenance": []
    },
    "kernelspec": {
      "name": "python3",
      "display_name": "Python 3"
    },
    "language_info": {
      "name": "python"
    }
  },
  "cells": [
    {
      "cell_type": "code",
      "source": [
        "# Clock, Calender\n",
        "class Clock:\n",
        "  def __init__(self, hours=0, minutes=0, seconds = 0):\n",
        "    self.__hours = hours\n",
        "    self.__minutes = minutes\n",
        "    self.__seconds = seconds\n",
        "  def set(self, hours, minutes, seconds = 0):\n",
        "    self.__hours = hours\n",
        "    self.__minutes = minutes\n",
        "    self.__seconds = seconds\n",
        "  def tick(self):\n",
        "    if self.__seconds == 59:\n",
        "      self.__seconds = 0\n",
        "      if self.__minutes == 59:\n",
        "        self.__minutes = 0\n",
        "        if self.__hours == 23:\n",
        "          self.__hours = 0\n",
        "        else:\n",
        "          self.__hours += 1\n",
        "      else:\n",
        "        self.__minutes += 1\n",
        "    else:\n",
        "      self.__seconds += 1\n",
        "  def display(self):\n",
        "    print('%d:%d:%d' % (self.__hours, self.__minutes, self.__seconds))\n",
        "  def __repr__(self):\n",
        "    return'%2d:%2d:%2d' % (self.__hours, self.__minutes, self.__seconds)\n",
        "  def check(self):\n",
        "    if self.__hours == 0 and self.__minutes == 0 and self.__seconds == 0:\n",
        "      return True\n",
        "    else:\n",
        "      return False\n",
        "\n",
        "x = Clock()\n",
        "print(x)\n",
        "# 수정발진자 -> 초당\n",
        "for i in range(20000):\n",
        "  x.tick()\n",
        "print(x)"
      ],
      "metadata": {
        "id": "qbbJmR4wZ1PF"
      },
      "execution_count": null,
      "outputs": []
    },
    {
      "cell_type": "code",
      "source": [
        "# Calendar\n",
        "class Calendar:\n",
        "  month = (31, 28, 31, 30, 31, 30, 31, 31, 30, 31, 30, 31)  # 클래스 변수\n",
        "  def __init__(self, year=1900, month=1, day=1):\n",
        "    self.__year = year\n",
        "    self.__month = month\n",
        "    self.__day = day\n",
        "  def leapyear(self, y): # 윤년\n",
        "    if y % 4:\n",
        "      return 0\n",
        "    else: \n",
        "      if y % 100:\n",
        "        return 1\n",
        "      else:\n",
        "        if y % 400:\n",
        "          return 0\n",
        "        else:\n",
        "          return 1\n",
        "  def set(self, year, month, day):\n",
        "    self.__year = year\n",
        "    self.__month = month\n",
        "    self.__day = day\n",
        "  def get(self, year, month, day):\n",
        "    return (self.__year, self.__month, self.__day)\n",
        "  def advance(self):\n",
        "    month = Calendar.month\n",
        "    max_day = month[self.__month - 1]\n",
        "    if self.__month == 2:\n",
        "      max_day += self.leapyear(self.__year)\n",
        "    if self.__day == max_day:\n",
        "      self.__day = 1\n",
        "      if (self.__month == 12):\n",
        "        self.__month = 1;\n",
        "        self.__year += 1;\n",
        "      else:\n",
        "        self.__month += 1\n",
        "    else:\n",
        "      self.__day += 1\n",
        "  def __repr__(self):\n",
        "    return str(self.__year) + '/' + str(self.__month) + '/' + str(self.__day)\n",
        "\n",
        "x = Calendar()\n",
        "for i in range(365 * 2):\n",
        "  x.advance()\n",
        "print(x)"
      ],
      "metadata": {
        "id": "1bbFAwSFZ1-d"
      },
      "execution_count": null,
      "outputs": []
    },
    {
      "cell_type": "code",
      "source": [
        "# 문제\n",
        "# 두 개의 클래스를 다중상속받은 CalendarClock 클래스를 선언하고\n",
        "# 두개의 클래스가 잘 작동하여 시간이 지나면 날짜도 연계하여 작동하도록 프로그램 작성\n",
        "# class CalendarClock(Clock, Calendar):\n",
        "  # 초기화\n",
        "  # 출력\n",
        "  # 두개의 클래스를 연결하여 작동하는 함수 \n",
        "\n",
        "class CalendarClock(Clock, Calendar):\n",
        "  def __init__(self, year=1900, month=1, day=1, hours=0, minutes=0, seconds=0):\n",
        "    Calendar.__init__(self, year, month, day)\n",
        "    Clock.__init__(self, hours, minutes, seconds)\n",
        "  def __repr__(self):\n",
        "    return Calendar.__repr__(self) + '.' + Clock.__repr__(self)\n",
        "  def tick_advance(self):\n",
        "    self.tick()\n",
        "    if self.check(): # 0:0:0일 때 \n",
        "      self.advance()\n",
        "\n",
        "x = CalendarClock(2020, 1, 1)\n",
        "print(x)\n",
        "for i in range(60 * 60 * 24):\n",
        "  x.tick_advance()\n",
        "print(x)"
      ],
      "metadata": {
        "id": "x3Ho4bTlZ2Al"
      },
      "execution_count": null,
      "outputs": []
    }
  ]
}