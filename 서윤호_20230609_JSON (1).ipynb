{
  "nbformat": 4,
  "nbformat_minor": 0,
  "metadata": {
    "colab": {
      "provenance": []
    },
    "kernelspec": {
      "name": "python3",
      "display_name": "Python 3"
    },
    "language_info": {
      "name": "python"
    }
  },
  "cells": [
    {
      "cell_type": "code",
      "source": [
        "# 송신부"
      ],
      "metadata": {
        "id": "xtatVpIB7wRg"
      },
      "execution_count": null,
      "outputs": []
    },
    {
      "cell_type": "code",
      "source": [
        "!pip install paho-mqtt"
      ],
      "metadata": {
        "id": "DjHZ7LP63bOQ"
      },
      "execution_count": null,
      "outputs": []
    },
    {
      "cell_type": "code",
      "execution_count": 5,
      "metadata": {
        "colab": {
          "base_uri": "https://localhost:8080/"
        },
        "id": "-NDJdrcW3GeQ",
        "outputId": "327368a2-83df-40e8-bafa-3825cfc43d2f"
      },
      "outputs": [
        {
          "output_type": "execute_result",
          "data": {
            "text/plain": [
              "<paho.mqtt.client.MQTTMessageInfo at 0x7fc2d41a4a90>"
            ]
          },
          "metadata": {},
          "execution_count": 5
        }
      ],
      "source": [
        "import paho.mqtt.client as mqtt\n",
        "client = mqtt.Client()\n",
        "# client.username_pw_set(username = 'testamin', password = '')\n",
        "client.connect('34.64.86.80', 19883)\n",
        "client.publish('house/light', '빨리켜지기')"
      ]
    },
    {
      "cell_type": "code",
      "source": [
        "client.publish('house/light', 'light on')"
      ],
      "metadata": {
        "colab": {
          "base_uri": "https://localhost:8080/"
        },
        "id": "8qLhUK8I3bKY",
        "outputId": "b27f20a3-3a85-4c50-d662-c51ffb7b51d6"
      },
      "execution_count": null,
      "outputs": [
        {
          "output_type": "execute_result",
          "data": {
            "text/plain": [
              "<paho.mqtt.client.MQTTMessageInfo at 0x7f669427a390>"
            ]
          },
          "metadata": {},
          "execution_count": 23
        }
      ]
    },
    {
      "cell_type": "code",
      "source": [
        "# 문제\n",
        "# 메시지로 {\"light\":\"turnoff\", \"door\":\"close\"}를 전송하고자 한다\n",
        "# 이를 수신하는 쪽에서 json형태로 parsing하여 출력"
      ],
      "metadata": {
        "id": "N7KYnrLl3bAA"
      },
      "execution_count": null,
      "outputs": []
    },
    {
      "cell_type": "code",
      "source": [
        "import json\n",
        "\n",
        "message = '{\"light\":\"turnoff\", \"door\":\"close\"}'\n",
        "parse = json.loads(message)\n",
        "light = parse[\"light\"]\n",
        "door = parse[\"door\"]\n",
        "\n",
        "client.publish('house/light', light)\n",
        "client.publish('house/light', door)"
      ],
      "metadata": {
        "colab": {
          "base_uri": "https://localhost:8080/"
        },
        "id": "wTPPTZgb7okB",
        "outputId": "020229b7-2dae-4a43-bef9-ef83db701c5b"
      },
      "execution_count": 8,
      "outputs": [
        {
          "output_type": "execute_result",
          "data": {
            "text/plain": [
              "<paho.mqtt.client.MQTTMessageInfo at 0x7fc2ba534ae0>"
            ]
          },
          "metadata": {},
          "execution_count": 8
        }
      ]
    },
    {
      "cell_type": "code",
      "source": [],
      "metadata": {
        "id": "SgWcWIEd8-R4"
      },
      "execution_count": null,
      "outputs": []
    }
  ]
}