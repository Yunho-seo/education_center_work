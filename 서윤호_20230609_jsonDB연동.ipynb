{
  "nbformat": 4,
  "nbformat_minor": 0,
  "metadata": {
    "colab": {
      "provenance": []
    },
    "kernelspec": {
      "name": "python3",
      "display_name": "Python 3"
    },
    "language_info": {
      "name": "python"
    }
  },
  "cells": [
    {
      "cell_type": "code",
      "source": [
        "!pip install paho_mqtt"
      ],
      "metadata": {
        "id": "lH0-Eig_SEh8"
      },
      "execution_count": null,
      "outputs": []
    },
    {
      "cell_type": "code",
      "source": [
        "!pip install pymysql"
      ],
      "metadata": {
        "id": "DSWfGurZQ7zL"
      },
      "execution_count": null,
      "outputs": []
    },
    {
      "cell_type": "code",
      "source": [
        "import paho.mqtt.client as mqtt\n",
        "client = mqtt.Client()\n",
        "client.username_pw_set(username = \"mirae\", password = \"daejeon1234\")\n",
        "client.connect('34.64.86.80', 19883)  # MQTT 브로커에 연결, IP 주소와 포트번호 지정\n",
        "client.publish('house/light', '빨리켜지기')"
      ],
      "metadata": {
        "colab": {
          "base_uri": "https://localhost:8080/"
        },
        "id": "7lh2BcRnSH9j",
        "outputId": "132402cb-4cc6-40e3-e786-44a76c110ec5"
      },
      "execution_count": 35,
      "outputs": [
        {
          "output_type": "execute_result",
          "data": {
            "text/plain": [
              "<paho.mqtt.client.MQTTMessageInfo at 0x7f608872afc0>"
            ]
          },
          "metadata": {},
          "execution_count": 35
        }
      ]
    },
    {
      "cell_type": "code",
      "source": [
        "import pymysql\n",
        "import json\n",
        "con = pymysql.connect(host='34.64.86.80', port = 3306, user = 'root', passwd = 'acorn1234',\n",
        "                     db = 'mqtt', charset = 'utf8', autocommit=True)\n",
        "cursor = con.cursor()\n",
        "\n",
        "def on_connect(client, userdata, flags, rc):\n",
        "    print(\"연결되었습니다 \" + str(rc))\n",
        "\n",
        "def on_message(client, userdata, msg):\n",
        "    payload = msg.payload.decode('utf-8')\n",
        "    parsed_data = json.loads(payload)\n",
        "    \n",
        "    light = parsed_data.get(\"light\")\n",
        "    door = parsed_data.get(\"door\")\n",
        "\n",
        "    cursor.execute('insert into mqtt(light, door) values (%s, %s)', (light, door))\n",
        "    con.commit()\n",
        "    if(cursor.rowcount):\n",
        "      print(\"데이터 삽입 성공!\")\n",
        "    else:\n",
        "      print(\"데이터 삽입 실패!\")\n",
        "\n",
        "def on_close(client, userdata, rc):\n",
        "  print(\"종료\")\n",
        "  con.close()\n",
        "\n",
        "client = mqtt.Client()\n",
        "client.username_pw_set(username = 'mirae', password='daejeon1234')\n",
        "client.on_connect = on_connect\n",
        "client.on_message = on_message\n",
        "client.on_close = on_close\n",
        "client.connect('34.64.86.80', 19883)\n",
        "client.subscribe('house/light', qos=1)\n",
        "client.loop_forever()"
      ],
      "metadata": {
        "id": "wxItAWBUM5bc"
      },
      "execution_count": null,
      "outputs": []
    },
    {
      "cell_type": "code",
      "source": [],
      "metadata": {
        "id": "MapptKgutZ1v"
      },
      "execution_count": null,
      "outputs": []
    },
    {
      "cell_type": "code",
      "source": [
        "# 문제\n",
        "# 수신한 데이터를 mariadb 테이블에 저장\n",
        "# publish되면, subscribe하여 mariadb에 저장되게 하기\n",
        "\n",
        "# == 서버부 코드 == #\n",
        "import json   # web 표준 (네트워크로 데이터를 전송)\n",
        "\n",
        "message = {}\n",
        "message[\"light\"] = \"on\"\n",
        "message[\"door\"] = \"close\"\n",
        "transferdata = json.dumps(message)\n",
        "client.connect('34.64.86.80', 19883)\n",
        "client.publish(\"house/light\", transferdata)"
      ],
      "metadata": {
        "id": "LkyJCy1staCv"
      },
      "execution_count": null,
      "outputs": []
    }
  ]
}